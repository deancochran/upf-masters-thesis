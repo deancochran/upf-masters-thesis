{
 "cells": [
  {
   "cell_type": "code",
   "execution_count": 1,
   "metadata": {},
   "outputs": [],
   "source": [
    "import torch as th \n",
    "import torch.nn as nn\n",
    "from tqdm import tqdm\n",
    "import copy\n",
    "\n",
    "import warnings\n",
    "from utils.utils import convert_to_gpu\n",
    "from dgl.data.utils import load_graphs\n",
    "from utils.LinkScorePredictor import LinkScorePredictor\n",
    "from model.R_HGNN import R_HGNN\n",
    "\n",
    "import pandas as pd\n",
    "import numpy as np\n",
    "\n",
    "from IPython.core.display import HTML\n",
    "HTML(\"\"\"\n",
    ".output_png {\n",
    "    display: table-cell;\n",
    "    text-align: right;\n",
    "    vertical-align: middle;\n",
    "}\n",
    "\"\"\")\n",
    "\n",
    "%load_ext autoreload\n",
    "%autoreload 2"
   ]
  },
  {
   "cell_type": "markdown",
   "metadata": {},
   "source": [
    "# Data Manipulation functions"
   ]
  },
  {
   "cell_type": "code",
   "execution_count": 2,
   "metadata": {},
   "outputs": [
    {
     "name": "stderr",
     "output_type": "stream",
     "text": [
      "2022-06-09 17:00:44.278355: W tensorflow/stream_executor/platform/default/dso_loader.cc:64] Could not load dynamic library 'libcudart.so.11.0'; dlerror: libcudart.so.11.0: cannot open shared object file: No such file or directory\n",
      "2022-06-09 17:00:44.278385: I tensorflow/stream_executor/cuda/cudart_stub.cc:29] Ignore above cudart dlerror if you do not have a GPU set up on your machine.\n"
     ]
    }
   ],
   "source": [
    "from data_utils import get_fileSize, get_col_names, setType, isValid, load_txt_df\n",
    "\n",
    "def get_ids_from_txtFile(path_txt_file, type ,ids):\n",
    "    chunksize=1000000\n",
    "    chunks=[]\n",
    "    size = get_fileSize(path_txt_file)\n",
    "    col_names=get_col_names(type)\n",
    "    df_chunks = pd.read_csv(path_txt_file, names=col_names, sep=\"\\t\", encoding='utf8', header = 0, chunksize=chunksize)\n",
    "    \n",
    "    for chunk in tqdm(df_chunks, total=size//chunksize):\n",
    "        for col in chunk.columns:\n",
    "            try:\n",
    "                chunk[col]=chunk[col].apply(lambda x: setType(x, col))\n",
    "            except:\n",
    "                chunk[col]=chunk[col].apply(lambda x: isValid(x, col))\n",
    "                chunk[col]=chunk[col].apply(lambda x: setType(x, col))\n",
    "        chunk = chunk[chunk[col_names[0]].isin(ids)] \n",
    "        chunks.append(chunk)\n",
    "    df = pd.concat(chunks)\n",
    "    # print(f'{type} df has shpe:',df.shape)\n",
    "    return df\n",
    "\n",
    "def get_id_mapping(path_to_file, type, reverse=False):\n",
    "    if reverse:\n",
    "        return {i: id for i, id in enumerate(load_txt_df(path_to_file, type)[get_col_names(type)[0]])}\n",
    "    else:\n",
    "        return {id: i for i, id in enumerate(load_txt_df(path_to_file, type)[get_col_names(type)[0]])}\n",
    "    \n",
    "\n",
    "def topK_playcounts(path_to_txt_data, series, type, k, user_id):\n",
    "    val_count_pairs=series.value_counts().head(k)\n",
    "    ids=list(val_count_pairs.keys())\n",
    "    type_df = get_ids_from_txtFile(path_to_txt_data, type, ids)\n",
    "    print(f'Top {k} {type}s for user {user_id}')\n",
    "    print('ID       PLAYCOUNT      NAME')\n",
    "    for id, playcount in val_count_pairs.items():\n",
    "        row=type_df.loc[type_df[type+'_id'] == id]\n",
    "        name = row[type+'_name'].item()\n",
    "        print(f'{id}        {playcount}         {name} ')\n",
    "\n",
    "\n",
    "def topK_recommendations(path_to_txt_data, ids, type, k, user_id, artist_path_to_txt_data=None):\n",
    "    type_df = get_ids_from_txtFile(path_to_txt_data, type, ids)\n",
    "    if artist_path_to_txt_data != None:\n",
    "        artist_ids=[type_df.loc[type_df[type+'_id'] == id]['artist_id'].item() for id in ids]\n",
    "        artist_df= get_ids_from_txtFile(artist_path_to_txt_data, type='artist', ids=artist_ids)\n",
    "        artist_name_mapping={id: artist_df.loc[artist_df['artist_id'] == id]['artist_name'].item() for id in artist_ids}\n",
    "\n",
    "    print(f'Top {k} {type} recommendations for user #{user_id}')\n",
    "    if artist_path_to_txt_data != None:\n",
    "        print('ID           ARTIST_NAME             NAME')\n",
    "    else:\n",
    "        print('ID             NAME')\n",
    "    for id in ids:\n",
    "        row=type_df.loc[type_df[type+'_id'] == id]\n",
    "        name = row[type+'_name'].item()\n",
    "        try:\n",
    "            artist_id = row['artist_id'].item()\n",
    "            print(f'{id}        {artist_name_mapping[artist_id]}        {name}')\n",
    "        except:\n",
    "            print(f'{id}  {name}')\n"
   ]
  },
  {
   "cell_type": "markdown",
   "metadata": {},
   "source": [
    "# Setting Arugments and initializing graph"
   ]
  },
  {
   "cell_type": "code",
   "execution_count": 3,
   "metadata": {},
   "outputs": [],
   "source": [
    "## ARGS\n",
    "N_LAYERS = 2\n",
    "HIDDEN_DIM = 32\n",
    "RELATIONAL_INPUT_DIM = 20\n",
    "RELATIONAL_HIDDEN_DIM = 8\n",
    "N_HEADS = 8\n",
    "DROPOUT = 0.3\n",
    "RESIDUAL = True\n",
    "NORM = True\n",
    "DEVICE='cuda'\n",
    "PATH_TO_USERS_FILE='LFM-1b_users.txt'\n",
    "PATH_TO_TRACKS_FILE='LFM-1b_tracks.txt'\n",
    "PATH_TO_LES_FILE='LFM-1b_LEs.txt'\n",
    "PATH_TO_ARTISTS_FILE='LFM-1b_artists.txt'\n",
    "PATH_TO_ALBUMS_FILE='LFM-1b_albums.txt'\n",
    "\n",
    "# using DGl's load_graphs function to load pre-computed and processed files\n",
    "glist,_=load_graphs('lastfm1b_subset.bin') # <- this file represents a subset of the full dataset\n",
    "hg=glist[0] # hg=='heterogeneous graph' ;) from the list of graphs in the processed file (hint: theres only one) pick our heterogenous subset graph\n",
    "\n",
    "\n",
    "r_hgnn = R_HGNN(graph=hg,\n",
    "                input_dim_dict={ntype: hg.nodes[ntype].data['feat'].shape[1] for ntype in hg.ntypes},\n",
    "                hidden_dim=HIDDEN_DIM, \n",
    "                relation_input_dim=RELATIONAL_INPUT_DIM,\n",
    "                relation_hidden_dim=RELATIONAL_HIDDEN_DIM,\n",
    "                num_layers=N_LAYERS, \n",
    "                n_heads=N_HEADS, \n",
    "                dropout=DROPOUT,\n",
    "                residual=RESIDUAL, \n",
    "                norm=NORM)\n",
    "\n",
    "\n",
    "warnings.filterwarnings('ignore')"
   ]
  },
  {
   "cell_type": "markdown",
   "metadata": {},
   "source": [
    "# Recommendation with Link Prediction Models"
   ]
  },
  {
   "cell_type": "code",
   "execution_count": 4,
   "metadata": {},
   "outputs": [],
   "source": [
    "def displayTopKRecommendations(graph, model, type, sampled_edge_type, k, user_id, typeFile_path, userFile_path, artists_path, albums_path, tracks_path, les_path, device, artist_path_to_txt_data=None):\n",
    "    input_features = {(stype, etype, dtype): graph.srcnodes[dtype].data['feat'] for stype, etype, dtype in graph.canonical_etypes}\n",
    "    nodes_representation, _ = model[0].inference(graph, copy.deepcopy(input_features), device=device)\n",
    "\n",
    "    user_nodes_representation=nodes_representation['user']\n",
    "    type_nodes_representation=nodes_representation[type]\n",
    "    # C = torch.mm(A, B.T)  # same as C = A @ B.T\n",
    "    listen_to_type_likelihood = C = th.mm(user_nodes_representation, type_nodes_representation.T)\n",
    "\n",
    "    print(f'listen_to_{type}_likelihood',listen_to_type_likelihood.shape)\n",
    "    user_type_recommendations={}\n",
    "\n",
    "    for u_id, row in enumerate(tqdm(listen_to_type_likelihood, total=int(listen_to_type_likelihood.shape[0]))):\n",
    "        for id, _ in enumerate(row):\n",
    "            try:\n",
    "                graph.edge_id(u_id,id, etype=sampled_edge_type)\n",
    "            except:\n",
    "                if u_id in user_type_recommendations.keys():\n",
    "                    user_type_recommendations[u_id].append((u_id, id, listen_to_type_likelihood[u_id,id].item()))\n",
    "                else:\n",
    "                    user_type_recommendations[u_id]=list()\n",
    "                    user_type_recommendations[u_id].append((u_id, id, listen_to_type_likelihood[u_id,id].item()))\n",
    "\n",
    "\n",
    "    rev_user_mapping = get_id_mapping(path_to_file=userFile_path, type='user', reverse=True)\n",
    "\n",
    "    rev_type_mapping = get_id_mapping(path_to_file=typeFile_path, type=type, reverse=True)\n",
    "\n",
    "    user_listens=get_ids_from_txtFile(path_txt_file=les_path, type='le' , ids=[rev_user_mapping[user_id]])\n",
    "    \n",
    "    topK_playcounts(path_to_txt_data=artists_path, series=user_listens['artist_id'], type='artist', k=k, user_id=user_id)\n",
    "    topK_playcounts(path_to_txt_data=albums_path, series=user_listens['album_id'], type='album', k=k, user_id=user_id)\n",
    "    topK_playcounts(path_to_txt_data=tracks_path, series=user_listens['track_id'], type='track', k=k, user_id=user_id)\n",
    "    user_type_recommendations={key: sorted(value, key=lambda x: x[2], reverse=True)[:k] for key, value in  user_type_recommendations.items()}\n",
    "    user_type_recommendations=[rev_type_mapping[id] for _, id, _ in user_type_recommendations[user_id]]\n",
    "    if artist_path_to_txt_data !=None:\n",
    "        topK_recommendations(path_to_txt_data=typeFile_path, ids=user_type_recommendations, type=type, k=k, user_id=user_id, artist_path_to_txt_data=artists_path)\n",
    "    else:\n",
    "        topK_recommendations(path_to_txt_data=typeFile_path, ids=user_type_recommendations, type=type, k=k, user_id=user_id)"
   ]
  },
  {
   "cell_type": "code",
   "execution_count": 5,
   "metadata": {},
   "outputs": [],
   "source": [
    "USER_ID=5\n",
    "K=10"
   ]
  },
  {
   "cell_type": "code",
   "execution_count": 6,
   "metadata": {},
   "outputs": [
    {
     "name": "stderr",
     "output_type": "stream",
     "text": [
      "inference for the 33-th batch in model 0-th layer: 100%|████████████████████████████████| 34/34 [00:10<00:00,  3.37it/s]\n",
      "inference for the 33-th batch in model 1-th layer: 100%|████████████████████████████████| 34/34 [00:02<00:00, 12.13it/s]\n"
     ]
    },
    {
     "name": "stdout",
     "output_type": "stream",
     "text": [
      "listen_to_album_likelihood torch.Size([17, 9702])\n"
     ]
    },
    {
     "name": "stderr",
     "output_type": "stream",
     "text": [
      "100%|██████████| 17/17 [01:02<00:00,  3.70s/it]\n"
     ]
    },
    {
     "name": "stdout",
     "output_type": "stream",
     "text": [
      "loading df in LFM-1b_users.txt\n"
     ]
    },
    {
     "name": "stderr",
     "output_type": "stream",
     "text": [
      "1it [00:00, 10.34it/s]\n"
     ]
    },
    {
     "name": "stdout",
     "output_type": "stream",
     "text": [
      "loading df in LFM-1b_albums.txt\n"
     ]
    },
    {
     "name": "stderr",
     "output_type": "stream",
     "text": [
      "1it [00:00, 30.58it/s]\n",
      "1it [00:00,  4.21it/s]\n",
      "1it [00:00, 94.45it/s]\n"
     ]
    },
    {
     "name": "stdout",
     "output_type": "stream",
     "text": [
      "Top 10 artists for user 5\n",
      "ID       PLAYCOUNT      NAME\n",
      "283        111         Iron Maiden \n",
      "14        81         3 Inches of Blood \n",
      "334        79         Manowar \n",
      "1643        63         Jin \n",
      "1763        56         Portishead \n",
      "1428        52         Beborn Beton \n",
      "153        52         Muse \n",
      "1674        47         Flight of the Conchords \n",
      "1354        47         Alestorm \n",
      "1339        46         Nightwish \n"
     ]
    },
    {
     "name": "stderr",
     "output_type": "stream",
     "text": [
      "1it [00:00, 46.67it/s]\n"
     ]
    },
    {
     "name": "stdout",
     "output_type": "stream",
     "text": [
      "Top 10 albums for user 5\n",
      "ID       PLAYCOUNT      NAME\n",
      "3584        63         Collection of Trance & Ambient \n",
      "3849        56         Dummy \n",
      "3641        47         Flight of the Conchords \n",
      "3130        45         Captain Morgan's Revenge \n",
      "870        42         Painkiller \n",
      "3585        40         The Four Seaons; Concertos for Oboe & Strings \n",
      "3036        39         Second Floor \n",
      "1078        38         Black Holes and Revelations \n",
      "2999        32         A Matter of Life and Death \n",
      "3236        28         History: The Best of New Model Army \n"
     ]
    },
    {
     "name": "stderr",
     "output_type": "stream",
     "text": [
      "1it [00:00, 19.08it/s]\n"
     ]
    },
    {
     "name": "stdout",
     "output_type": "stream",
     "text": [
      "Top 10 tracks for user 5\n",
      "ID       PLAYCOUNT      NAME\n",
      "8623        7         These Colours Don't Run \n",
      "8484        7         Beowulf, Part 2 \n",
      "9070        7         Lost Little Robot \n",
      "6802        7         Knights of Cydonia \n",
      "8523        6         Call to Arms \n",
      "9061        6         Terror on the High Seas \n",
      "10434        6         Autumn - Allegro \n",
      "11111        6         Mysterons \n",
      "9303        6         Wenches & Meat \n",
      "11116        5         Numb \n"
     ]
    },
    {
     "name": "stderr",
     "output_type": "stream",
     "text": [
      "1it [00:00, 47.79it/s]\n",
      "1it [00:00, 89.90it/s]"
     ]
    },
    {
     "name": "stdout",
     "output_type": "stream",
     "text": [
      "Top 10 album recommendations for user #5\n",
      "ID           ARTIST_NAME             NAME\n",
      "348        Ensiferum        Dragonheads (EP)\n",
      "444        Ensiferum        Tale Of Revenge (Single)\n",
      "124        Kobong        Kobong\n",
      "353        Ensiferum        Ensiferum\n",
      "412        Made of Hate        Pathogen\n",
      "6091        Miles Davis        Milestones\n",
      "1206        Kobong        Chmury nie było\n",
      "536        Made of Hate        Bullet In Your Head\n",
      "956        Ensiferum        Act Of Grace\n",
      "883        Ensiferum        Victory Songs\n"
     ]
    },
    {
     "name": "stderr",
     "output_type": "stream",
     "text": [
      "\n"
     ]
    }
   ],
   "source": [
    "# Albums Recommednations\n",
    "SAMPLED_EDGE_TYPE='listened_to_album'\n",
    "MODEL_NAME='R_HGNN'+'_'+SAMPLED_EDGE_TYPE\n",
    "LINK_SCORE_PREDICTOR = LinkScorePredictor(HIDDEN_DIM * N_HEADS)\n",
    "album_predictor = nn.Sequential(r_hgnn, LINK_SCORE_PREDICTOR)\n",
    "album_predictor = convert_to_gpu(album_predictor, device=DEVICE)\n",
    "# load model parameter\n",
    "SAVE_MODEL_FOLDER = f\"../save_model/'lfm1b'/{MODEL_NAME}\"\n",
    "album_predictor.load_state_dict(th.load(SAVE_MODEL_FOLDER+'/'+MODEL_NAME+'.pkl', map_location='cpu'))\n",
    "# evaluate the best model\n",
    "album_predictor.eval()\n",
    "\n",
    "displayTopKRecommendations(\n",
    "    graph=hg,\n",
    "    model=album_predictor,\n",
    "    type='album',\n",
    "    sampled_edge_type=SAMPLED_EDGE_TYPE,\n",
    "    k=K,\n",
    "    user_id=USER_ID,\n",
    "    typeFile_path=PATH_TO_ALBUMS_FILE,\n",
    "    userFile_path=PATH_TO_USERS_FILE,\n",
    "    artists_path=PATH_TO_ARTISTS_FILE,\n",
    "    albums_path=PATH_TO_ALBUMS_FILE,\n",
    "    tracks_path=PATH_TO_TRACKS_FILE,\n",
    "    les_path=PATH_TO_LES_FILE,\n",
    "    device=DEVICE,\n",
    "    artist_path_to_txt_data=PATH_TO_ARTISTS_FILE\n",
    "    )"
   ]
  },
  {
   "cell_type": "code",
   "execution_count": 7,
   "metadata": {},
   "outputs": [
    {
     "name": "stderr",
     "output_type": "stream",
     "text": [
      "inference for the 33-th batch in model 0-th layer: 100%|████████████████████████████████| 34/34 [00:09<00:00,  3.44it/s]\n",
      "inference for the 33-th batch in model 1-th layer: 100%|████████████████████████████████| 34/34 [00:02<00:00, 12.20it/s]\n"
     ]
    },
    {
     "name": "stdout",
     "output_type": "stream",
     "text": [
      "listen_to_track_likelihood torch.Size([17, 28185])\n"
     ]
    },
    {
     "name": "stderr",
     "output_type": "stream",
     "text": [
      "100%|██████████| 17/17 [03:06<00:00, 10.96s/it]\n"
     ]
    },
    {
     "name": "stdout",
     "output_type": "stream",
     "text": [
      "loading df in LFM-1b_users.txt\n"
     ]
    },
    {
     "name": "stderr",
     "output_type": "stream",
     "text": [
      "1it [00:00, 82.57it/s]\n"
     ]
    },
    {
     "name": "stdout",
     "output_type": "stream",
     "text": [
      "loading df in LFM-1b_tracks.txt\n"
     ]
    },
    {
     "name": "stderr",
     "output_type": "stream",
     "text": [
      "1it [00:00, 10.98it/s]\n",
      "1it [00:00,  4.22it/s]\n",
      "1it [00:00, 81.88it/s]\n"
     ]
    },
    {
     "name": "stdout",
     "output_type": "stream",
     "text": [
      "Top 10 artists for user 5\n",
      "ID       PLAYCOUNT      NAME\n",
      "283        111         Iron Maiden \n",
      "14        81         3 Inches of Blood \n",
      "334        79         Manowar \n",
      "1643        63         Jin \n",
      "1763        56         Portishead \n",
      "1428        52         Beborn Beton \n",
      "153        52         Muse \n",
      "1674        47         Flight of the Conchords \n",
      "1354        47         Alestorm \n",
      "1339        46         Nightwish \n"
     ]
    },
    {
     "name": "stderr",
     "output_type": "stream",
     "text": [
      "1it [00:00, 46.57it/s]\n"
     ]
    },
    {
     "name": "stdout",
     "output_type": "stream",
     "text": [
      "Top 10 albums for user 5\n",
      "ID       PLAYCOUNT      NAME\n",
      "3584        63         Collection of Trance & Ambient \n",
      "3849        56         Dummy \n",
      "3641        47         Flight of the Conchords \n",
      "3130        45         Captain Morgan's Revenge \n",
      "870        42         Painkiller \n",
      "3585        40         The Four Seaons; Concertos for Oboe & Strings \n",
      "3036        39         Second Floor \n",
      "1078        38         Black Holes and Revelations \n",
      "2999        32         A Matter of Life and Death \n",
      "3236        28         History: The Best of New Model Army \n"
     ]
    },
    {
     "name": "stderr",
     "output_type": "stream",
     "text": [
      "1it [00:00, 17.69it/s]\n"
     ]
    },
    {
     "name": "stdout",
     "output_type": "stream",
     "text": [
      "Top 10 tracks for user 5\n",
      "ID       PLAYCOUNT      NAME\n",
      "8623        7         These Colours Don't Run \n",
      "8484        7         Beowulf, Part 2 \n",
      "9070        7         Lost Little Robot \n",
      "6802        7         Knights of Cydonia \n",
      "8523        6         Call to Arms \n",
      "9061        6         Terror on the High Seas \n",
      "10434        6         Autumn - Allegro \n",
      "11111        6         Mysterons \n",
      "9303        6         Wenches & Meat \n",
      "11116        5         Numb \n"
     ]
    },
    {
     "name": "stderr",
     "output_type": "stream",
     "text": [
      "1it [00:00, 19.28it/s]\n",
      "1it [00:00, 87.09it/s]"
     ]
    },
    {
     "name": "stdout",
     "output_type": "stream",
     "text": [
      "Top 10 track recommendations for user #5\n",
      "ID           ARTIST_NAME             NAME\n",
      "27976        Faithless        Crazy English Summer\n",
      "27956        Faithless        Everything Will Be Alright Tomorrow\n",
      "27955        Faithless        Mass Destruction\n",
      "27314        Faithless        Salva Mea\n",
      "27264        Muse        Save Me\n",
      "26780        Robert Schumann        Cello Concerto in A minor, Op. 129: I. Nicht zu schnell\n",
      "27263        Muse        The 2nd Law: Unsustainable\n",
      "27267        Muse        Animals\n",
      "27266        Muse        Explorers\n",
      "27265        Muse        Big Freeze\n"
     ]
    },
    {
     "name": "stderr",
     "output_type": "stream",
     "text": [
      "\n"
     ]
    }
   ],
   "source": [
    "# Tracks Recommednations\n",
    "SAMPLED_EDGE_TYPE='listened_to_track'\n",
    "MODEL_NAME='R_HGNN'+'_'+SAMPLED_EDGE_TYPE\n",
    "LINK_SCORE_PREDICTOR = LinkScorePredictor(HIDDEN_DIM * N_HEADS)\n",
    "track_predictor = nn.Sequential(r_hgnn, LINK_SCORE_PREDICTOR)\n",
    "track_predictor = convert_to_gpu(track_predictor, device=DEVICE)\n",
    "# load model parameter\n",
    "SAVE_MODEL_FOLDER = f\"../save_model/'lfm1b'/{MODEL_NAME}\"\n",
    "track_predictor.load_state_dict(th.load(SAVE_MODEL_FOLDER+'/'+MODEL_NAME+'.pkl', map_location='cpu'))\n",
    "# evaluate the best model\n",
    "track_predictor.eval()\n",
    "\n",
    "displayTopKRecommendations(\n",
    "    graph=hg,\n",
    "    model=track_predictor,\n",
    "    type='track',\n",
    "    sampled_edge_type=SAMPLED_EDGE_TYPE,\n",
    "    k=K,\n",
    "    user_id=USER_ID,\n",
    "    typeFile_path=PATH_TO_TRACKS_FILE,\n",
    "    userFile_path=PATH_TO_USERS_FILE,\n",
    "    artists_path=PATH_TO_ARTISTS_FILE,\n",
    "    albums_path=PATH_TO_ALBUMS_FILE,\n",
    "    tracks_path=PATH_TO_TRACKS_FILE,\n",
    "    les_path=PATH_TO_LES_FILE,\n",
    "    device=DEVICE,\n",
    "    artist_path_to_txt_data=PATH_TO_ARTISTS_FILE\n",
    "    )"
   ]
  },
  {
   "cell_type": "code",
   "execution_count": 8,
   "metadata": {},
   "outputs": [
    {
     "name": "stderr",
     "output_type": "stream",
     "text": [
      "inference for the 33-th batch in model 0-th layer: 100%|████████████████████████████████| 34/34 [00:10<00:00,  3.40it/s]\n",
      "inference for the 33-th batch in model 1-th layer: 100%|████████████████████████████████| 34/34 [00:02<00:00, 12.22it/s]\n"
     ]
    },
    {
     "name": "stdout",
     "output_type": "stream",
     "text": [
      "listen_to_artist_likelihood torch.Size([17, 4775])\n"
     ]
    },
    {
     "name": "stderr",
     "output_type": "stream",
     "text": [
      "100%|██████████| 17/17 [00:32<00:00,  1.90s/it]\n"
     ]
    },
    {
     "name": "stdout",
     "output_type": "stream",
     "text": [
      "loading df in LFM-1b_users.txt\n"
     ]
    },
    {
     "name": "stderr",
     "output_type": "stream",
     "text": [
      "1it [00:00, 58.23it/s]\n"
     ]
    },
    {
     "name": "stdout",
     "output_type": "stream",
     "text": [
      "loading df in LFM-1b_artists.txt\n"
     ]
    },
    {
     "name": "stderr",
     "output_type": "stream",
     "text": [
      "1it [00:00, 53.63it/s]\n",
      "1it [00:00,  4.18it/s]\n",
      "1it [00:00, 84.52it/s]\n"
     ]
    },
    {
     "name": "stdout",
     "output_type": "stream",
     "text": [
      "Top 10 artists for user 5\n",
      "ID       PLAYCOUNT      NAME\n",
      "283        111         Iron Maiden \n",
      "14        81         3 Inches of Blood \n",
      "334        79         Manowar \n",
      "1643        63         Jin \n",
      "1763        56         Portishead \n",
      "1428        52         Beborn Beton \n",
      "153        52         Muse \n",
      "1674        47         Flight of the Conchords \n",
      "1354        47         Alestorm \n",
      "1339        46         Nightwish \n"
     ]
    },
    {
     "name": "stderr",
     "output_type": "stream",
     "text": [
      "1it [00:00, 52.77it/s]\n"
     ]
    },
    {
     "name": "stdout",
     "output_type": "stream",
     "text": [
      "Top 10 albums for user 5\n",
      "ID       PLAYCOUNT      NAME\n",
      "3584        63         Collection of Trance & Ambient \n",
      "3849        56         Dummy \n",
      "3641        47         Flight of the Conchords \n",
      "3130        45         Captain Morgan's Revenge \n",
      "870        42         Painkiller \n",
      "3585        40         The Four Seaons; Concertos for Oboe & Strings \n",
      "3036        39         Second Floor \n",
      "1078        38         Black Holes and Revelations \n",
      "2999        32         A Matter of Life and Death \n",
      "3236        28         History: The Best of New Model Army \n"
     ]
    },
    {
     "name": "stderr",
     "output_type": "stream",
     "text": [
      "1it [00:00, 18.49it/s]\n"
     ]
    },
    {
     "name": "stdout",
     "output_type": "stream",
     "text": [
      "Top 10 tracks for user 5\n",
      "ID       PLAYCOUNT      NAME\n",
      "8623        7         These Colours Don't Run \n",
      "8484        7         Beowulf, Part 2 \n",
      "9070        7         Lost Little Robot \n",
      "6802        7         Knights of Cydonia \n",
      "8523        6         Call to Arms \n",
      "9061        6         Terror on the High Seas \n",
      "10434        6         Autumn - Allegro \n",
      "11111        6         Mysterons \n",
      "9303        6         Wenches & Meat \n",
      "11116        5         Numb \n"
     ]
    },
    {
     "name": "stderr",
     "output_type": "stream",
     "text": [
      "1it [00:00, 96.04it/s]"
     ]
    },
    {
     "name": "stdout",
     "output_type": "stream",
     "text": [
      "Top 10 artist recommendations for user #5\n",
      "ID             NAME\n",
      "168  Arsis\n",
      "40  Wintersun\n",
      "53  Kevin Ayers\n",
      "381  Isme (Włocławek)\n",
      "156  MC5\n",
      "26  The Bill\n",
      "9  Coma\n",
      "352  Mangala Vallis\n",
      "272  Jimi Hendrix\n",
      "516  JerryC\n"
     ]
    },
    {
     "name": "stderr",
     "output_type": "stream",
     "text": [
      "\n"
     ]
    }
   ],
   "source": [
    "# Artist Recommednations\n",
    "SAMPLED_EDGE_TYPE='listened_to_artist'\n",
    "MODEL_NAME='R_HGNN'+'_'+SAMPLED_EDGE_TYPE\n",
    "LINK_SCORE_PREDICTOR = LinkScorePredictor(HIDDEN_DIM * N_HEADS)\n",
    "artist_predictor = nn.Sequential(r_hgnn, LINK_SCORE_PREDICTOR)\n",
    "artist_predictor = convert_to_gpu(artist_predictor, device=DEVICE)\n",
    "# load model parameter\n",
    "SAVE_MODEL_FOLDER = f\"../save_model/'lfm1b'/{MODEL_NAME}\"\n",
    "artist_predictor.load_state_dict(th.load(SAVE_MODEL_FOLDER+'/'+MODEL_NAME+'.pkl', map_location='cpu'))\n",
    "# evaluate the best model\n",
    "artist_predictor.eval()\n",
    "\n",
    "\n",
    "displayTopKRecommendations(\n",
    "    graph=hg,\n",
    "    model=artist_predictor,\n",
    "    type='artist',\n",
    "    sampled_edge_type=SAMPLED_EDGE_TYPE,\n",
    "    k=K,\n",
    "    user_id=USER_ID,\n",
    "    typeFile_path=PATH_TO_ARTISTS_FILE,\n",
    "    userFile_path=PATH_TO_USERS_FILE,\n",
    "    artists_path=PATH_TO_ARTISTS_FILE,\n",
    "    albums_path=PATH_TO_ALBUMS_FILE,\n",
    "    tracks_path=PATH_TO_TRACKS_FILE,\n",
    "    les_path=PATH_TO_LES_FILE,\n",
    "    device=DEVICE\n",
    "    )"
   ]
  },
  {
   "cell_type": "code",
   "execution_count": null,
   "metadata": {},
   "outputs": [],
   "source": []
  },
  {
   "cell_type": "code",
   "execution_count": null,
   "metadata": {},
   "outputs": [],
   "source": []
  },
  {
   "cell_type": "code",
   "execution_count": null,
   "metadata": {},
   "outputs": [],
   "source": []
  }
 ],
 "metadata": {
  "language_info": {
   "name": "python"
  },
  "orig_nbformat": 4
 },
 "nbformat": 4,
 "nbformat_minor": 2
}
