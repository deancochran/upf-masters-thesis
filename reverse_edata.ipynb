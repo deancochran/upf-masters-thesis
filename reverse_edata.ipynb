{
 "cells": [
  {
   "cell_type": "code",
   "execution_count": 46,
   "metadata": {},
   "outputs": [],
   "source": [
    "import dgl\n",
    "from dgl.data import load_graphs\n",
    "from dgl.utils import extract_node_subframes, set_new_frames\n"
   ]
  },
  {
   "cell_type": "code",
   "execution_count": 47,
   "metadata": {},
   "outputs": [],
   "source": [
    "glist, glabels=load_graphs('data/LFM-1b/processed/lastfm1b.bin')"
   ]
  },
  {
   "cell_type": "code",
   "execution_count": 48,
   "metadata": {},
   "outputs": [
    {
     "data": {
      "text/plain": [
       "Graph(num_nodes={'album': 9702, 'artist': 4775, 'genre': 20, 'track': 28185, 'user': 17},\n",
       "      num_edges={('album', 'produced_by', 'artist'): 9702, ('artist', 'in_genre', 'genre'): 12257, ('track', 'preformed_by', 'artist'): 28185, ('user', 'listened_to_album', 'album'): 10115, ('user', 'listened_to_artist', 'artist'): 5604, ('user', 'listened_to_track', 'track'): 29584},\n",
       "      metagraph=[('album', 'artist', 'produced_by'), ('artist', 'genre', 'in_genre'), ('track', 'artist', 'preformed_by'), ('user', 'album', 'listened_to_album'), ('user', 'artist', 'listened_to_artist'), ('user', 'track', 'listened_to_track')])"
      ]
     },
     "execution_count": 48,
     "metadata": {},
     "output_type": "execute_result"
    }
   ],
   "source": [
    "hg=glist[0]\n",
    "hg"
   ]
  },
  {
   "cell_type": "code",
   "execution_count": 37,
   "metadata": {},
   "outputs": [],
   "source": [
    "def add_reverse_edges(hg, copy_ndata=True, copy_edata=True):\n",
    "    '''adds reverse edges with identical feartures for every edges in graph`'''\n",
    "    canonical_etypes = hg.canonical_etypes\n",
    "    num_nodes_dict = {ntype: hg.number_of_nodes(ntype) for ntype in hg.ntypes}\n",
    "    edge_dict = {}\n",
    "    for etype in canonical_etypes:\n",
    "        u, v = hg.edges(form='uv', order='eid', etype=etype)\n",
    "        edge_dict[etype] = (u, v)\n",
    "        edge_dict[(etype[2], etype[1] + '-rev', etype[0])] = (v, u)\n",
    "    new_hg = dgl.heterograph(edge_dict, num_nodes_dict=num_nodes_dict)\n",
    "    if copy_ndata:\n",
    "        node_frames = extract_node_subframes(hg, None)\n",
    "        set_new_frames(new_hg, node_frames=node_frames)\n",
    "    if copy_edata:\n",
    "        for etype in canonical_etypes:\n",
    "            edge_frame = hg.edges[etype].data\n",
    "            for data_name, value in edge_frame.items():\n",
    "                new_hg.edges[etype].data[data_name] = value\n",
    "    return new_hg\n",
    "\n",
    "new_hg=add_reverse_edges(hg)"
   ]
  },
  {
   "cell_type": "code",
   "execution_count": 55,
   "metadata": {},
   "outputs": [
    {
     "name": "stdout",
     "output_type": "stream",
     "text": [
      "playcount for ('album', 'listened_to_album-rev', 'user')\n",
      "playcount for ('artist', 'listened_to_artist-rev', 'user')\n",
      "playcount for ('track', 'listened_to_track-rev', 'user')\n",
      "playcount for ('user', 'listened_to_album', 'album')\n",
      "playcount for ('user', 'listened_to_artist', 'artist')\n",
      "playcount for ('user', 'listened_to_track', 'track')\n"
     ]
    }
   ],
   "source": []
  },
  {
   "cell_type": "code",
   "execution_count": null,
   "metadata": {},
   "outputs": [],
   "source": []
  }
 ],
 "metadata": {
  "language_info": {
   "name": "python"
  },
  "orig_nbformat": 4
 },
 "nbformat": 4,
 "nbformat_minor": 2
}
