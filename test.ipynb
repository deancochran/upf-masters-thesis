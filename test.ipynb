{
 "cells": [
  {
   "cell_type": "code",
   "execution_count": 14,
   "metadata": {},
   "outputs": [],
   "source": [
    "ids=[0,1,2,3]\n",
    "groupby_ids=[6,4,5,7]\n",
    "timestamps = [132034 ,102034, 132034, 202034]\n",
    "timestamps,groupby_ids,ids  = zip(*sorted(zip(timestamps,groupby_ids,ids)))\n"
   ]
  },
  {
   "cell_type": "code",
   "execution_count": 15,
   "metadata": {},
   "outputs": [
    {
     "name": "stdout",
     "output_type": "stream",
     "text": [
      "1 4 102034\n",
      "2 5 132034\n",
      "0 6 132034\n",
      "3 7 202034\n"
     ]
    }
   ],
   "source": [
    "for time, g_id, u_id in zip(timestamps, groupby_ids, ids):\n",
    "    print(u_id, g_id, time)\n"
   ]
  },
  {
   "cell_type": "code",
   "execution_count": null,
   "metadata": {},
   "outputs": [],
   "source": []
  }
 ],
 "metadata": {
  "language_info": {
   "name": "python"
  },
  "orig_nbformat": 4
 },
 "nbformat": 4,
 "nbformat_minor": 2
}
